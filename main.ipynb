{
 "cells": [
  {
   "cell_type": "code",
   "execution_count": null,
   "id": "initial_id",
   "metadata": {
    "collapsed": true,
    "jupyter": {
     "outputs_hidden": true
    }
   },
   "outputs": [],
   "source": [
    "import numpy as np\n",
    "import pandas as pd\n"
   ]
  },
  {
   "cell_type": "code",
   "execution_count": null,
   "id": "dd7771b767768359",
   "metadata": {
    "collapsed": false
   },
   "outputs": [],
   "source": [
    "from ipywidgets import interact\n",
    "import plotly.express as px\n",
    "\n",
    "\n",
    "def show_scatter(features: pd.DataFrame,\n",
    "                 hover_data: str,\n",
    "                 fig_type: str = '3D'):\n",
    "    if fig_type not in ['2D', '3D']:\n",
    "        raise ValueError('fig_type must be either 3D or 2D')\n",
    "\n",
    "    if fig_type == '3D':\n",
    "        @interact\n",
    "        def show(x=features.columns, y=features.columns,\n",
    "                 z=features.columns, color=features.columns):\n",
    "            fig = px.scatter_3d(features, x=x, y=y, z=z, color=color,\n",
    "                                hover_data=hover_data)\n",
    "            fig.show()\n",
    "    else:\n",
    "        @interact\n",
    "        def show(x=features.columns, y=features.columns,\n",
    "                 color=features.columns):\n",
    "            fig = px.scatter(features, x=x, y=y, color=color,\n",
    "                             hover_data=hover_data)\n",
    "            fig.show()\n",
    "    return show\n",
    "\n"
   ]
  },
  {
   "cell_type": "code",
   "execution_count": null,
   "id": "78a9362ab1c276d8",
   "metadata": {
    "collapsed": false
   },
   "outputs": [],
   "source": [
    "from plotly.offline import init_notebook_mode\n",
    "\n",
    "init_notebook_mode();"
   ]
  },
  {
   "cell_type": "markdown",
   "id": "b38b86e24a13e6ce",
   "metadata": {
    "collapsed": false
   },
   "source": []
  },
  {
   "cell_type": "markdown",
   "id": "927b78d3d18d021a",
   "metadata": {
    "collapsed": false
   },
   "source": [
    "### Посмотрим на то, что из себя представляю данные во первом датафрейме"
   ]
  },
  {
   "cell_type": "code",
   "execution_count": null,
   "id": "445e8eddca527d85",
   "metadata": {
    "collapsed": false
   },
   "outputs": [],
   "source": [
    "df_structure_1 = pd.read_csv(\"structure_1.csv\")"
   ]
  },
  {
   "cell_type": "code",
   "execution_count": null,
   "id": "e5a223d87cde329c",
   "metadata": {
    "collapsed": false
   },
   "outputs": [],
   "source": [
    "df_structure_1.columns"
   ]
  },
  {
   "cell_type": "code",
   "execution_count": null,
   "id": "f92408a8995a1adf",
   "metadata": {
    "collapsed": false
   },
   "outputs": [],
   "source": [
    "df_structure_1"
   ]
  },
  {
   "cell_type": "code",
   "execution_count": null,
   "id": "57818da934b6b619",
   "metadata": {
    "collapsed": false
   },
   "outputs": [],
   "source": [
    "df_structure_1.info()"
   ]
  },
  {
   "cell_type": "code",
   "execution_count": null,
   "id": "9af8473c44067952",
   "metadata": {
    "collapsed": false
   },
   "outputs": [],
   "source": [
    "df_structure_1.shape"
   ]
  },
  {
   "cell_type": "code",
   "execution_count": null,
   "id": "815b7b6a10dc7ea8",
   "metadata": {
    "collapsed": false
   },
   "outputs": [],
   "source": [
    "df_structure_1.describe()"
   ]
  },
  {
   "cell_type": "code",
   "execution_count": null,
   "id": "37cb755025b0a2a6",
   "metadata": {
    "collapsed": false
   },
   "outputs": [],
   "source": [
    "df_structure_1.value_counts()"
   ]
  },
  {
   "cell_type": "code",
   "execution_count": null,
   "id": "e48c7689d7f69854",
   "metadata": {
    "collapsed": false
   },
   "outputs": [],
   "source": [
    "df_structure_1.nunique()"
   ]
  },
  {
   "cell_type": "markdown",
   "id": "3a815847ac0da0c7",
   "metadata": {
    "collapsed": false
   },
   "source": []
  },
  {
   "cell_type": "markdown",
   "id": "b80b4c2ab88be6b9",
   "metadata": {
    "collapsed": false
   },
   "source": [
    "### Посмотрим на то, что из себя представляю данные во втором датафрейме"
   ]
  },
  {
   "cell_type": "code",
   "execution_count": null,
   "id": "8ec0aaead232d2f9",
   "metadata": {
    "collapsed": false
   },
   "outputs": [],
   "source": [
    "df_structure_2 = pd.read_csv(\"structure_2.csv\")"
   ]
  },
  {
   "cell_type": "code",
   "execution_count": null,
   "id": "9e1d89e2686f9376",
   "metadata": {
    "collapsed": false
   },
   "outputs": [],
   "source": [
    "df_structure_2.columns"
   ]
  },
  {
   "cell_type": "code",
   "execution_count": null,
   "id": "ccaf79dafd07dfd2",
   "metadata": {
    "collapsed": false
   },
   "outputs": [],
   "source": [
    "df_structure_2"
   ]
  },
  {
   "cell_type": "code",
   "execution_count": null,
   "id": "8e6bad5fe42bd3b5",
   "metadata": {
    "collapsed": false
   },
   "outputs": [],
   "source": [
    "df_structure_2.info()"
   ]
  },
  {
   "cell_type": "code",
   "execution_count": null,
   "id": "df5a05e8acde4f2f",
   "metadata": {
    "collapsed": false
   },
   "outputs": [],
   "source": [
    "df_structure_2.shape"
   ]
  },
  {
   "cell_type": "code",
   "execution_count": null,
   "id": "7e34f4c504bd97ea",
   "metadata": {
    "collapsed": false
   },
   "outputs": [],
   "source": [
    "df_structure_2.describe()"
   ]
  },
  {
   "cell_type": "code",
   "execution_count": null,
   "id": "128963c83be6d11f",
   "metadata": {
    "collapsed": false
   },
   "outputs": [],
   "source": [
    "df_structure_2.value_counts()"
   ]
  },
  {
   "cell_type": "code",
   "execution_count": null,
   "id": "26ffb5e6e60a26ea",
   "metadata": {
    "collapsed": false
   },
   "outputs": [],
   "source": [
    "df_structure_2.nunique()"
   ]
  },
  {
   "cell_type": "markdown",
   "source": [],
   "metadata": {
    "collapsed": false
   },
   "id": "a0c10d9b9c256985"
  },
  {
   "cell_type": "markdown",
   "source": [],
   "metadata": {
    "collapsed": false
   },
   "id": "f1a7d85e2281ff36"
  },
  {
   "cell_type": "code",
   "execution_count": null,
   "id": "7b285101542cd2db",
   "metadata": {
    "collapsed": false
   },
   "outputs": [],
   "source": [
    "# Можно ли назвать их однородными с точки зрения покупательского поведения?\n",
    "\n",
    "# Подсчет уникальных значений карт лояльности\n",
    "unique_loyalty_cards = df_structure_1['loyalty_card_id'].nunique()\n",
    "print(\"Уникальные карты лояльности:\", unique_loyalty_cards)\n"
   ]
  },
  {
   "cell_type": "code",
   "execution_count": null,
   "id": "85a8e47b5511d2fa",
   "metadata": {
    "collapsed": false
   },
   "outputs": [],
   "source": [
    "# Подсчет уникальных значений чеков\n",
    "unique_receipts = df_structure_1['receipt_id'].nunique()\n",
    "print(\"Уникальные чеки:\", unique_receipts)\n"
   ]
  },
  {
   "cell_type": "code",
   "execution_count": null,
   "id": "569e5aa735bb6a54",
   "metadata": {
    "collapsed": false
   },
   "outputs": [],
   "source": [
    "# Группировка чеков по картам лояльности и подсчет количества чеков для каждой карты\n",
    "loyalty_card_counts = df_structure_1.groupby('loyalty_card_id')['receipt_id'].count()\n"
   ]
  },
  {
   "cell_type": "code",
   "execution_count": null,
   "id": "a76758da6125aa80",
   "metadata": {
    "collapsed": false
   },
   "outputs": [],
   "source": [
    "# Вывод сводной информации о количестве чеков по картам лояльности\n",
    "print(\"Статистика по количеству чеков по картам лояльности:\")\n",
    "print(loyalty_card_counts.describe())\n"
   ]
  },
  {
   "cell_type": "code",
   "execution_count": null,
   "id": "87f7033dfb55152f",
   "metadata": {
    "collapsed": false
   },
   "outputs": [],
   "source": [
    "# fig = px.violin(df_structure_2, y=\"qty\", box=True, points=\"all\")\n",
    "# fig.update_layout(title='Распределение количества товаров в чеке',\n",
    "#                   xaxis_title='Чеки',\n",
    "#                   yaxis_title='Количество товаров')\n",
    "# fig.show()"
   ]
  },
  {
   "cell_type": "markdown",
   "source": [
    "# 1) Что вы можете сказать о покупателях данной сети? Можно ли назвать их однородными с точки зрения покупательского поведения?\n",
    "\n",
    "Для оценки покупательского поведения и выявления возможной однородности или разнообразия покупателей, мы можем проанализировать следующие аспекты:\n",
    "\n",
    "- Распределение количества товаров в чеке (qty): Мы можем использовать гистограмму или boxplot для визуализации распределения количества товаров в чеке. Это позволит нам понять, какие значения количества товаров наиболее распространены и есть ли какие-то выбросы или необычные значения.\n",
    "- Распределение суммы чека (sum_rub): Аналогично, мы можем использовать гистограмму или boxplot для визуализации распределения суммы чека и выявления особенностей.\n",
    "- Сезонность покупок: Мы можем проанализировать, есть ли какая-либо сезонность или тренды в покупках по датам и месяцам. Это может помочь нам определить, есть ли определенное время года, когда покупатели более активны.\n",
    "- Влияние программы лояльности: Мы можем исследовать, как использование карт лояльности влияет на покупательское поведение. Например, можно сравнить среднюю сумму чека и количество товаров в чеке у клиентов с картами лояльности и без них.\n"
   ],
   "metadata": {
    "collapsed": false
   },
   "id": "8ac0eebd2703e4e1"
  },
  {
   "cell_type": "code",
   "execution_count": null,
   "outputs": [],
   "source": [
    "# Объединение датафреймов по столбцу \"receipt_id\"\n",
    "merged_df = pd.merge(df_structure_1, df_structure_2, on='receipt_id')\n"
   ],
   "metadata": {
    "collapsed": false
   },
   "id": "e688db189b41fe5b"
  },
  {
   "cell_type": "code",
   "execution_count": null,
   "outputs": [],
   "source": [
    "merged_df.columns"
   ],
   "metadata": {
    "collapsed": false
   },
   "id": "7d5d39fa9d24ed5"
  },
  {
   "cell_type": "code",
   "execution_count": null,
   "outputs": [],
   "source": [
    "# # Гистограмма количества товаров в чеке (qty):\n",
    "# fig_qty = px.histogram(merged_df, x='qty', nbins=30, title='Distribution of Quantity')\n",
    "# fig_qty.show()\n"
   ],
   "metadata": {
    "collapsed": false
   },
   "id": "b17c91babd298423"
  },
  {
   "cell_type": "code",
   "execution_count": null,
   "outputs": [],
   "source": [
    "# # Boxplot количества товаров в чеке (qty):\n",
    "# fig_box_qty = px.box(merged_df, y='qty', title='Boxplot of Quantity')\n",
    "# fig_box_qty.show()\n"
   ],
   "metadata": {
    "collapsed": false
   },
   "id": "4899dc7161383b5a"
  },
  {
   "cell_type": "code",
   "execution_count": null,
   "outputs": [],
   "source": [
    "# # Гистограмма суммы чека (sum_rub):\n",
    "# fig_sum_rub = px.histogram(merged_df, x='sum_rub', nbins=30, title='Distribution of Sum (Rubles)')\n",
    "# fig_sum_rub.show()\n"
   ],
   "metadata": {
    "collapsed": false
   },
   "id": "e87671a8a1962161"
  },
  {
   "cell_type": "code",
   "execution_count": null,
   "outputs": [],
   "source": [
    "# # Boxplot суммы чека (sum_rub):\n",
    "# fig_box_sum_rub = px.box(merged_df, y='sum_rub', title='Boxplot of Sum (Rubles)')\n",
    "# fig_box_sum_rub.show()\n"
   ],
   "metadata": {
    "collapsed": false
   },
   "id": "18e5cc790bd6c209"
  },
  {
   "cell_type": "markdown",
   "source": [],
   "metadata": {
    "collapsed": false
   },
   "id": "ced435a802a60e03"
  },
  {
   "cell_type": "markdown",
   "source": [
    "# 2) Оцените количество покупателей, посещавших магазин X на рассматриваемом периоде?"
   ],
   "metadata": {
    "collapsed": false
   },
   "id": "4a5989e242e454de"
  },
  {
   "cell_type": "code",
   "execution_count": null,
   "outputs": [],
   "source": [
    "unique_customers = merged_df['loyalty_card_id'].nunique()\n",
    "\n",
    "print(f\"The number of unique customers who visited store X during the period: {unique_customers}\")"
   ],
   "metadata": {
    "collapsed": false
   },
   "id": "7bc65e28b7bf2eb5"
  },
  {
   "cell_type": "markdown",
   "source": [
    "# 3) Какие плюсы и минусы у карты лояльности как идентификатора покупателя для целей анализа покупательского поведения?\n",
    "\n",
    "Когда дело касается карт лояльности в качестве идентификаторов покупателей для анализа их покупательского поведения, есть пара плюсов и минусов.\n",
    "\n",
    "Начну с плюсов. Во-первых, такие карты дают каждому покупателю свой уникальный идентификатор, что позволяет отслеживать и анализировать их покупки и поведение со временем. Во-вторых, эти карты могут быть связаны с персональными данными покупателей, типа их имени, контактной информации и предпочтений. Это даёт возможность создавать более детальные профили клиентов и выявлять их предпочтения и потребности. И в-третьих, использование карт лояльности позволяет анализировать покупательское поведение, включая частоту покупок, размер покупок, предпочтения по категориям товаров и прочие данные. Это помогает понять, что клиентам нравится и делать более обоснованные бизнес-решения.\n",
    "\n",
    "Теперь перейду к минусам. Во-первых, информация, которую мы получаем с помощью карт лояльности, ограничена только участниками программы. Это может привести к некоторому искажению данных и неполному представлению всей клиентской базы, так как не все клиенты являются участниками программы лояльности. Во-вторых, некоторые клиенты могут изменить свое поведение, когда используют карту лояльности. Например, они могут покупать больше или выбирать более дорогие товары, чтобы получить больше лояльностей или бонусов. Это может исказить настоящее покупательское поведение. И, наконец, нужно обеспечивать защиту данных и конфиденциальность при сборе и хранении персональной информации о клиентах. Надо соблюдать законы и гарантировать безопасность данных, чтобы не нарушать конфиденциальность клиентов."
   ],
   "metadata": {
    "collapsed": false
   },
   "id": "e5face96e8de0279"
  },
  {
   "cell_type": "markdown",
   "source": [
    "# 4) Как вы оцениваете работу программы лояльности за два года? Есть ли ощутимые изменения в ее работе?\n",
    "Мы можем проанализировать графики среднего количества покупок и средней суммы покупок по месяцам, чтобы увидеть, есть ли ощутимые изменения в ее работе."
   ],
   "metadata": {
    "collapsed": false
   },
   "id": "5144f97ee34633e4"
  },
  {
   "cell_type": "code",
   "execution_count": null,
   "outputs": [],
   "source": [
    "merged_df['receipt_date'] = pd.to_datetime(merged_df['receipt_date'])\n",
    "\n",
    "monthly_data = merged_df.groupby(pd.Grouper(key='receipt_date', freq='M')).agg({'qty': 'mean', 'sum_rub': 'mean'}).reset_index()\n",
    "\n",
    "@interact\n",
    "def plot_graph(metric=['qty', 'sum_rub']):\n",
    "    fig = px.line(monthly_data, x='receipt_date', y=metric, title=f'Динамика {metric} по месяцам')\n",
    "    fig.show()\n",
    "    print(\"Средние значения по месяцам:\")\n",
    "    print(monthly_data[['receipt_date', metric]])"
   ],
   "metadata": {
    "collapsed": false
   },
   "id": "cbf964b69119815a"
  },
  {
   "cell_type": "markdown",
   "source": [
    "# 5) Есть ли закономерности в общих продажах магазина, поведении покупателей?\n",
    "\n"
   ],
   "metadata": {
    "collapsed": false
   },
   "id": "c9e8490327dc8da7"
  },
  {
   "cell_type": "code",
   "execution_count": null,
   "outputs": [],
   "source": [
    "import pandas as pd\n",
    "import plotly.express as px\n",
    "\n",
    "merged_df['receipt_date'] = pd.to_datetime(merged_df['receipt_date'])\n",
    "\n",
    "merged_df['month'] = merged_df['receipt_date'].dt.strftime('%Y-%m')\n",
    "\n",
    "check_counts = merged_df.groupby(['month', 'loyalty_card_id'])['receipt_id'].nunique().reset_index()\n",
    "\n",
    "average_checks_per_card = check_counts.groupby('month')['receipt_id'].mean().reset_index()\n",
    "\n",
    "# Построение графика среднего количества чеков от одной лояльной карты по месяцам\n",
    "fig = px.line(average_checks_per_card, x='month', y='receipt_id', title='Среднее количество чеков от одной лояльной карты по месяцам')\n",
    "fig.show()"
   ],
   "metadata": {
    "collapsed": false
   },
   "id": "73081a599a67c798"
  },
  {
   "cell_type": "markdown",
   "source": [
    "# 6) Известно, что в рассматриваемый период проходила ровно одна промо-акция. С использованием данных предположите, какой был период акции, какая механика, величина скидки, эффект от акции."
   ],
   "metadata": {
    "collapsed": false
   },
   "id": "5378758098878ab9"
  },
  {
   "cell_type": "code",
   "execution_count": null,
   "outputs": [],
   "source": [
    "merged_df"
   ],
   "metadata": {
    "collapsed": false
   },
   "id": "68fa9847527e7028"
  },
  {
   "cell_type": "code",
   "execution_count": null,
   "outputs": [],
   "source": [
    "merged_df['receipt_date'] = pd.to_datetime(merged_df['receipt_date'])\n",
    "\n",
    "customer_monthly_avg_receipts = merged_df.groupby([merged_df['receipt_date'].dt.to_period('M'), 'loyalty_card_id']).size().groupby('loyalty_card_id').mean().reset_index()\n",
    "customer_monthly_avg_receipts.columns = ['loyalty_card_id', 'avg_receipts']\n",
    "\n",
    "# Вывод графика среднего количества чеков для каждого покупателя\n",
    "fig_avg_receipts = px.bar(customer_monthly_avg_receipts, x='loyalty_card_id', y='avg_receipts', title='Среднее количество чеков для каждого покупателя за месяц')\n",
    "# fig_avg_receipts.show()"
   ],
   "metadata": {
    "collapsed": false
   },
   "id": "bf258ada1ea7647d"
  },
  {
   "cell_type": "markdown",
   "source": [
    "# 7) Как бы вы оценивали успешность промо-акции? Оцените успешность промо-акции из предыдущего вопроса"
   ],
   "metadata": {
    "collapsed": false
   },
   "id": "33d81df22497c838"
  },
  {
   "cell_type": "markdown",
   "source": [
    "По итогу, рассмотрев все графики, мы можем заметить: у нас есть три пика, в которые растут продажи. Учитывая, что среднее количество чеков падает (а значит и падает повторная докупка клиентом). Я предполагаю, что период промо-акции был в декабре 2022 года. До этого времени было падение продаж, поэтому была введена промоакция, которая справилась со своей задачей: продажи не просто вернулись в средние значения, а они ещё и поднялись. Однако мы не имеем продажи за следующие месяцы, скорее всего этот эффект временный, как мы видим по другим пикам. "
   ],
   "metadata": {
    "collapsed": false
   },
   "id": "d2bfa80437926ebe"
  },
  {
   "cell_type": "code",
   "execution_count": null,
   "outputs": [],
   "source": [],
   "metadata": {
    "collapsed": false
   },
   "id": "36da7e00e555c8ae"
  }
 ],
 "metadata": {
  "kernelspec": {
   "display_name": "Python 3 (ipykernel)",
   "language": "python",
   "name": "python3"
  },
  "language_info": {
   "codemirror_mode": {
    "name": "ipython",
    "version": 3
   },
   "file_extension": ".py",
   "mimetype": "text/x-python",
   "name": "python",
   "nbconvert_exporter": "python",
   "pygments_lexer": "ipython3",
   "version": "3.11.4"
  }
 },
 "nbformat": 4,
 "nbformat_minor": 5
}
